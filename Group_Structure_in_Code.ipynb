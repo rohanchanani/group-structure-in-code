{
  "nbformat": 4,
  "nbformat_minor": 0,
  "metadata": {
    "colab": {
      "name": "Group Structure in Code",
      "provenance": [],
      "collapsed_sections": [
        "mGumiAxzzXcY"
      ]
    },
    "kernelspec": {
      "name": "python3",
      "display_name": "Python 3"
    },
    "language_info": {
      "name": "python"
    }
  },
  "cells": [
    {
      "cell_type": "markdown",
      "source": [
        "#Group Structure in Code"
      ],
      "metadata": {
        "id": "m5lK_HfOzQMN"
      }
    },
    {
      "cell_type": "markdown",
      "source": [
        "##Helper Functions"
      ],
      "metadata": {
        "id": "mGumiAxzzXcY"
      }
    },
    {
      "cell_type": "markdown",
      "source": [
        "###Find the prime factors of the group's order to construct groups from its simple subgroups"
      ],
      "metadata": {
        "id": "4JgSQZGRzeJx"
      }
    },
    {
      "cell_type": "code",
      "source": [
        "def primeFactorization(number):\n",
        "  primes = [2, 3, 5, 7, 11, 13, 17, 19, 23, 29]\n",
        "  if number in primes:\n",
        "    return [number]\n",
        "  prime_factors = []\n",
        "  for prime in primes:\n",
        "    if number == 1:\n",
        "      return prime_factors\n",
        "    while number % prime == 0:\n",
        "      prime_factors.append(prime)\n",
        "      number = number / prime\n",
        "  return prime_factors"
      ],
      "metadata": {
        "id": "7I03e8bLp2uI"
      },
      "execution_count": 1,
      "outputs": []
    },
    {
      "cell_type": "markdown",
      "source": [
        "###Get the unique values of a list by testing if elements are equal, including overriden \\_\\_eq__ method"
      ],
      "metadata": {
        "id": "LCPg9rn1zpRT"
      }
    },
    {
      "cell_type": "code",
      "source": [
        "def unique(allElements):\n",
        "  results = []\n",
        "  for element in allElements:\n",
        "    if element not in results:\n",
        "      results.append(element)\n",
        "  return results"
      ],
      "metadata": {
        "id": "2hQe4aY-G-ed"
      },
      "execution_count": 2,
      "outputs": []
    },
    {
      "cell_type": "markdown",
      "source": [
        "###Calculates the mathematical factorial and choose operations"
      ],
      "metadata": {
        "id": "qCqYO-9Oz7WZ"
      }
    },
    {
      "cell_type": "code",
      "source": [
        "def factorial(n):\n",
        "  if n==0:\n",
        "    return 1\n",
        "  else:\n",
        "    return n*factorial(n-1)  "
      ],
      "metadata": {
        "id": "-rccwTpRZxwS"
      },
      "execution_count": 3,
      "outputs": []
    },
    {
      "cell_type": "code",
      "source": [
        "def choose(group, choice):\n",
        "  return factorial(group) / (factorial(choice)*factorial(group-choice))"
      ],
      "metadata": {
        "id": "iVbMtTLpZroX"
      },
      "execution_count": 4,
      "outputs": []
    },
    {
      "cell_type": "markdown",
      "source": [
        "###Given a number, calculates all possible combinations of 3 indices without replacement"
      ],
      "metadata": {
        "id": "CA1HBC8o0Ai7"
      }
    },
    {
      "cell_type": "code",
      "source": [
        "def getChooseThree(num):\n",
        "  possibilities = []\n",
        "  for i in range(num):\n",
        "    for k in range(i+1, num):\n",
        "      for j in range(k+1, num):\n",
        "        possibilities.append([i, k, j])\n",
        "  return possibilities"
      ],
      "metadata": {
        "id": "Rcfm04ZWbAsG"
      },
      "execution_count": 5,
      "outputs": []
    },
    {
      "cell_type": "markdown",
      "source": [
        "###Combines a list of lists into a single list"
      ],
      "metadata": {
        "id": "lfLmDu-Z4fHl"
      }
    },
    {
      "cell_type": "code",
      "source": [
        "def listSum(listOfLists):\n",
        "  result = listOfLists[0]\n",
        "  for currList in listOfLists[1:]:\n",
        "    result += currList\n",
        "  return result"
      ],
      "metadata": {
        "id": "pG9QOCOE7I_y"
      },
      "execution_count": 6,
      "outputs": []
    },
    {
      "cell_type": "markdown",
      "source": [
        "##Group Data Structure"
      ],
      "metadata": {
        "id": "uqq_tL7x05Ku"
      }
    },
    {
      "cell_type": "markdown",
      "source": [
        "###Given the Cayley Multiplication Table for a Group, tests for the conditions of closure, identity, associativity, and inverse"
      ],
      "metadata": {
        "id": "muHPYTuG1OXq"
      }
    },
    {
      "cell_type": "code",
      "execution_count": 7,
      "metadata": {
        "id": "o0e0sEW1rbHV"
      },
      "outputs": [],
      "source": [
        "import numpy as np\n",
        "import itertools\n",
        "def verifyTable(table):\n",
        "  table = np.array(table)\n",
        "  if table.shape[0] != table.shape[1]:\n",
        "    print(\"not square\")\n",
        "    return False\n",
        "  for row in table:\n",
        "    if len(np.unique(row)) != table.shape[0]:\n",
        "      print(\"row is not unique\")\n",
        "      return False\n",
        "  for column in table.T:\n",
        "    if len(np.unique(column)) != table.shape[0]:\n",
        "      print(\"Column is not unique\")\n",
        "      return False\n",
        "  possibilities = getChooseThree(table.shape[0])\n",
        "  for possibility in possibilities:\n",
        "    for permutation in itertools.permutations(possibility):\n",
        "      if table[permutation[0], table[permutation[1], permutation[2]]] != table[table[permutation[0],permutation[1]], permutation[2]]:\n",
        "        print(\"Not Associative\")\n",
        "        return False\n",
        "  return True"
      ]
    },
    {
      "cell_type": "code",
      "source": [
        "validZ4 = [\n",
        "           [0,1,2,3],\n",
        "           [1,2,3,0],\n",
        "           [2,3,0,1],\n",
        "           [3,0,1,2],\n",
        "]\n",
        "invalidZ4 = [\n",
        "           [0,1,3,2],\n",
        "           [1,2,0,3],\n",
        "           [3,0,2,1],\n",
        "           [2,3,1,0],\n",
        "]\n",
        "print(f\"Valid: {verifyTable(validZ4)}\")\n",
        "print(f\"Invalid: {verifyTable(invalidZ4)}\")"
      ],
      "metadata": {
        "colab": {
          "base_uri": "https://localhost:8080/"
        },
        "id": "MdwlnBX_Rlye",
        "outputId": "7ce88a14-48d2-4a69-a1a5-e6503e3225e2"
      },
      "execution_count": 8,
      "outputs": [
        {
          "output_type": "stream",
          "name": "stdout",
          "text": [
            "Valid: True\n",
            "Not Associative\n",
            "Invalid: False\n"
          ]
        }
      ]
    },
    {
      "cell_type": "markdown",
      "source": [
        "###A group can be created given its multiplication table, elements, and representation. It also has the property abelian which corresponds to whether or not the group operation is commutitive and the following methods:\n",
        "\n",
        "\n",
        "*   checkAbelian -> tests if the group operation is commutitive\n",
        "*   combine -> returns the result of the binary operation on two given elements in the group\n",
        "*   combineMultiple -> combines all elements in the list from left to right\n",
        "*   inverse -> finds the inverse of a given element in the group\n",
        "*   order -> calculates the order of a given element in the group\n",
        "*   \\_\\_eq__ -> determines if a group is isomorphic to another given group\n",
        "*   \\_\\_repr__ -> Returns the group's representation in standard group notation\n",
        "*   \\_\\_str__ -> Returns the group's multiplication table as a string\n",
        "\n",
        "\n",
        "\n",
        "\n",
        "\n",
        "\n",
        "\n"
      ],
      "metadata": {
        "id": "dN5nkcwj1RGK"
      }
    },
    {
      "cell_type": "code",
      "source": [
        "class Group:\n",
        "  def __init__(self, table, newElements, repr):\n",
        "    if not verifyTable(table):\n",
        "      raise ValueError(\"Invalid Group\")\n",
        "    else:\n",
        "      self.elements = newElements\n",
        "      self.multiplication = table\n",
        "      self.representation = repr\n",
        "      self.abelian = self.checkAbelian()\n",
        "\n",
        "  def checkAbelian(self):\n",
        "    for i in range(len(self.elements)):\n",
        "      for j in range(len(self.elements)):\n",
        "        if self.multiplication[i,j] != self.multiplication[j,i]:\n",
        "          return False\n",
        "    return True\n",
        " \n",
        "  def combine(self, element1, element2):\n",
        "    try:\n",
        "      return self.elements[self.multiplication[self.elements.index(element1), self.elements.index(element2)]]\n",
        "    except:\n",
        "      raise ValueError(\"Element not in in group\")\n",
        "\n",
        "  def combineMultiple(self, toCombine):\n",
        "    currElement = toCombine[0]\n",
        "    for element in toCombine[1:]:\n",
        "      currElement = self.combine(currElement, element)\n",
        "    return currElement\n",
        "\n",
        "  def inverse(self, element):\n",
        "    try:\n",
        "      return self.elements[list(self.multiplication[self.elements.index(element)]).index(0)]\n",
        "    except:\n",
        "      raise ValueError(\"Element not in in group\")\n",
        "\n",
        "  def order(self, element):\n",
        "    if self.combine(element, element) == element:\n",
        "      return 0\n",
        "    order = 2\n",
        "    currElement = self.combine(element, element)\n",
        "    while currElement != element:\n",
        "      order += 1\n",
        "      currElement = self.combine(currElement, element)\n",
        "    return order - 1\n",
        "\n",
        "  def __eq__(self, other):\n",
        "    return sorted([self.order(element) for element in self.elements]) == sorted([other.order(element2) for element2 in other.elements]) and self.abelian==other.abelian\n",
        "  \n",
        "  def __repr__(self):\n",
        "    return self.representation\n",
        "\n",
        "  def __str__(self):\n",
        "    return str(self.multiplication)"
      ],
      "metadata": {
        "id": "lVr63cp1ebwA"
      },
      "execution_count": 9,
      "outputs": []
    },
    {
      "cell_type": "code",
      "source": [
        "Z4 = Group(np.array(validZ4), [0, 1, 2, 3], 'Z4')\n",
        "print(f\"Elements: {Z4.elements}\")\n",
        "print(f\"2+3 mod 4 = {Z4.combine(2,3)}\") # 5 mod 4 is 1\n",
        "print(f\"Inverse of 3 mod 4: {Z4.inverse(3)}\") # 3 + 1 mod 4 is 0\n",
        "print(f\"Order of 1 in Z4: {Z4.order(1)}\") # 1 * 4 is 0 mod 4"
      ],
      "metadata": {
        "colab": {
          "base_uri": "https://localhost:8080/"
        },
        "id": "yrWBgLwGUYCU",
        "outputId": "6270f36a-5429-4429-d121-1b414e615632"
      },
      "execution_count": 10,
      "outputs": [
        {
          "output_type": "stream",
          "name": "stdout",
          "text": [
            "Elements: [0, 1, 2, 3]\n",
            "2+3 mod 4 = 1\n",
            "Inverse of 3 mod 4: 1\n",
            "Order of 1 in Z4: 4\n"
          ]
        }
      ]
    },
    {
      "cell_type": "markdown",
      "source": [
        "##Generating Abelian Groups"
      ],
      "metadata": {
        "id": "TWvswwOZ28mp"
      }
    },
    {
      "cell_type": "markdown",
      "source": [
        "### Returns the cyclic group of a given order n\n",
        "Elements: [0,n-1]\n",
        "\n",
        "Operation: Addition mod n"
      ],
      "metadata": {
        "id": "_F61F6g72_wE"
      }
    },
    {
      "cell_type": "code",
      "source": [
        "def cyclic(numElements):\n",
        "  results = np.zeros((numElements, numElements), dtype=int)\n",
        "  for i in range(numElements):\n",
        "    for j in range(numElements):\n",
        "      results[i, j] = int((i+j) % numElements)\n",
        "  return Group(results, list(range(numElements)), \"Z\"+str(numElements))"
      ],
      "metadata": {
        "id": "nj3iBxozj482"
      },
      "execution_count": 11,
      "outputs": []
    },
    {
      "cell_type": "code",
      "source": [
        "print(f\"Does the automatically generated group equal the manually generated one?: {cyclic(4) == Z4}\")"
      ],
      "metadata": {
        "colab": {
          "base_uri": "https://localhost:8080/"
        },
        "id": "a85IdMDyVhmF",
        "outputId": "bdccf9d3-33d1-45de-da1b-e4b2ce5b4442"
      },
      "execution_count": 12,
      "outputs": [
        {
          "output_type": "stream",
          "name": "stdout",
          "text": [
            "Does the automatically generated group equal the manually generated one?: True\n"
          ]
        }
      ]
    },
    {
      "cell_type": "markdown",
      "source": [
        "###Returns the direct product of two groups A and B\n",
        "Elements: (a,b) where {a ∈ A, b ∈ B}\n",
        "\n",
        "Operation: (a1,b1) + (a2,b2) -> (a1+a2,b1xb2) where + is operation of A and x is operation of B"
      ],
      "metadata": {
        "id": "nc0c8L4o3htp"
      }
    },
    {
      "cell_type": "code",
      "source": [
        "from itertools import product\n",
        "def cross(group1, group2):\n",
        "  initialBounds = sorted([list(element) for element in list(product(group1.elements, group2.elements))])\n",
        "  results = np.zeros((len(initialBounds), len(initialBounds)), dtype=int)\n",
        "  for rowIndex, row in enumerate(initialBounds):\n",
        "    for colIndex, col in enumerate(initialBounds):\n",
        "      results[rowIndex,colIndex] = initialBounds.index([group1.combine(row[0], col[0]), group2.combine(row[1], col[1])])\n",
        "  return Group(results, initialBounds, group1.representation + \" X \" + group2.representation)"
      ],
      "metadata": {
        "id": "ziGLxIu0csoD"
      },
      "execution_count": 13,
      "outputs": []
    },
    {
      "cell_type": "code",
      "source": [
        "Z2XZ2 = cross(cyclic(2), cyclic(2))\n",
        "print(f\"Elements: {Z2XZ2.elements}\")\n",
        "print(f\"Binary sum without carrying of 01 and 11 = {Z2XZ2.combine([0,1],[1,1])}\") # 10\n",
        "print(f\"Inverse of 01: {Z2XZ2.inverse([0,1])}\") # Each element is its own inverse\n",
        "print(f\"Order of 01: {Z2XZ2.order([0,1])}\") # Each element also has order 2"
      ],
      "metadata": {
        "colab": {
          "base_uri": "https://localhost:8080/"
        },
        "id": "xil20H9AV2Eo",
        "outputId": "de5a6d8e-33ac-465a-d641-fc3d0b147954"
      },
      "execution_count": 14,
      "outputs": [
        {
          "output_type": "stream",
          "name": "stdout",
          "text": [
            "Elements: [[0, 0], [0, 1], [1, 0], [1, 1]]\n",
            "Binary sum without carrying of 01 and 11 = [1, 0]\n",
            "Inverse of 01: [0, 1]\n",
            "Order of 01: 2\n"
          ]
        }
      ]
    },
    {
      "cell_type": "markdown",
      "source": [
        "### Returns the direct product of all given groups from left to right"
      ],
      "metadata": {
        "id": "MTVoiTbF4Nky"
      }
    },
    {
      "cell_type": "code",
      "source": [
        "def crossMultiple(*groups):\n",
        "  results = cross(groups[0], groups[1])\n",
        "  for group in groups[2:]:\n",
        "    results = cross(results, group)\n",
        "  return results"
      ],
      "metadata": {
        "id": "70fYU-ND8Zb3"
      },
      "execution_count": 15,
      "outputs": []
    },
    {
      "cell_type": "markdown",
      "source": [
        "##Generating Non-Abelian Groups"
      ],
      "metadata": {
        "id": "FbrQtkw74mqt"
      }
    },
    {
      "cell_type": "markdown",
      "source": [
        "### (deprecated) Finds the automorphism group of a cyclic group"
      ],
      "metadata": {
        "id": "s5zor2Ld4SJ7"
      }
    },
    {
      "cell_type": "code",
      "source": [
        "def generateAutos(order):\n",
        "  possible_autos = {1:0}\n",
        "  for i in range(2,order):\n",
        "    elementOrder = 1\n",
        "    currentNum = i\n",
        "    while currentNum % order != 1:\n",
        "      elementOrder += 1\n",
        "      currentNum *= i\n",
        "    possible_autos[i] = elementOrder\n",
        "  return possible_autos"
      ],
      "metadata": {
        "id": "_A-d9rJPVf0r"
      },
      "execution_count": 16,
      "outputs": []
    },
    {
      "cell_type": "markdown",
      "source": [
        "###Determines if a given set of elements generates a given Group"
      ],
      "metadata": {
        "id": "MoBDmJLk4Yjp"
      }
    },
    {
      "cell_type": "code",
      "source": [
        "def generates(group, elements):\n",
        "  generatedElements = elements.copy() \n",
        "  order = len(group.elements)\n",
        "  for i in range(order):\n",
        "    for element1 in elements:\n",
        "      for element2 in elements:\n",
        "        if group.combine(element1, element2) not in generatedElements:\n",
        "          generatedElements.append(group.combine(element1, element2))\n",
        "    elements = generatedElements.copy()\n",
        "  allThere = True\n",
        "  for element in group.elements:\n",
        "    if element not in generatedElements:\n",
        "      allThere = False\n",
        "      break\n",
        "  return allThere"
      ],
      "metadata": {
        "id": "TF60nkooplcO"
      },
      "execution_count": 17,
      "outputs": []
    },
    {
      "cell_type": "code",
      "source": [
        "print(f\"Can one element generate Z2 X Z2: {generates(cross(cyclic(2), cyclic(2)), [[0,1]])}\") #Z2 X Z2 is not cyclic\n",
        "print(f\"Can one element generate Z4: {generates(cyclic(4), [1])}\") #Z4 is cyclic"
      ],
      "metadata": {
        "colab": {
          "base_uri": "https://localhost:8080/"
        },
        "id": "F8VUqGQsOeEG",
        "outputId": "ebd63fcf-9f75-48dc-f690-e45eea618f39"
      },
      "execution_count": 18,
      "outputs": [
        {
          "output_type": "stream",
          "name": "stdout",
          "text": [
            "Can one element generate Z2 X Z2: False\n",
            "Can one element generate Z4: True\n"
          ]
        }
      ]
    },
    {
      "cell_type": "markdown",
      "source": [
        "###Finds all of the smallest possible sets of elements that generate a given group"
      ],
      "metadata": {
        "id": "6HuZcB6143at"
      }
    },
    {
      "cell_type": "code",
      "source": [
        "def generators(group):\n",
        "  generators = group.elements.copy()[1:]\n",
        "  for i in range(len(group.elements)):\n",
        "    removed = True\n",
        "    while removed:\n",
        "      removed = False\n",
        "      index = 0\n",
        "      while index < len(generators):\n",
        "        if generates(group, generators[:index]+generators[index+1:]):\n",
        "          generators.pop(index)\n",
        "          removed = True\n",
        "        else:\n",
        "          index += 1\n",
        "  basis_length = len(generators)\n",
        "  actual_bases = []\n",
        "  all_elements = group.elements.copy()[1:]\n",
        "  counters = list(range(basis_length))\n",
        "  for k in range(int(round(choose(len(all_elements), basis_length)))):\n",
        "    test_basis = [all_elements[counter] for counter in counters]\n",
        "    if generates(group, test_basis):\n",
        "      actual_bases.append(test_basis)\n",
        "    for j in range(len(counters)):\n",
        "      if counters[-(j+1)] < len(all_elements)-1:\n",
        "        counters[-(j+1)] += 1\n",
        "        break\n",
        "  return actual_bases"
      ],
      "metadata": {
        "id": "csp4QZgEG2Zm"
      },
      "execution_count": 19,
      "outputs": []
    },
    {
      "cell_type": "code",
      "source": [
        "print(f\"Generators of Z2 X Z2: {generators(cross(cyclic(2), cyclic(2)))}\") #Z2 X Z2 basis vectors are length 2\n",
        "print(f\"Generators of Z4: {generators(cyclic(4))}\") #Z4 has two single generators"
      ],
      "metadata": {
        "colab": {
          "base_uri": "https://localhost:8080/"
        },
        "id": "riee3NHpPDno",
        "outputId": "ae78d1be-3c63-48dc-d082-05c78bab7d93"
      },
      "execution_count": 20,
      "outputs": [
        {
          "output_type": "stream",
          "name": "stdout",
          "text": [
            "Generators of Z2 X Z2: [[[0, 1], [1, 0]], [[0, 1], [1, 1]], [[1, 0], [1, 1]]]\n",
            "Generators of Z4: [[1], [3]]\n"
          ]
        }
      ]
    },
    {
      "cell_type": "markdown",
      "source": [
        "###Given an automorphism as [preimage,image], returns a function which determines where an element is mapped in the automorphism"
      ],
      "metadata": {
        "id": "nvlFVU1e5GS-"
      }
    },
    {
      "cell_type": "code",
      "source": [
        "def auto_function(auto_list):\n",
        "  def phism(element):\n",
        "    return auto_list[1][auto_list[0].index(element)]\n",
        "  return phism"
      ],
      "metadata": {
        "id": "cv04pAYMABFK"
      },
      "execution_count": 21,
      "outputs": []
    },
    {
      "cell_type": "markdown",
      "source": [
        "###Given two possible sets of generators of a group, finds the automorphism created by mapping the first set to the second"
      ],
      "metadata": {
        "id": "g8hdyImg5dH8"
      }
    },
    {
      "cell_type": "code",
      "source": [
        "def automorphism(group, basis1, basis2):\n",
        "  foundElements = basis1.copy()\n",
        "  foundMappings = basis2.copy()\n",
        "  testedCoefficients = [1] + [0] * (len(basis1) - 1)\n",
        "  while len(foundElements) != len(group.elements):\n",
        "    currElement = group.combineMultiple(listSum([testedCoefficients[i]*[basis1[i]] for i in range(len(basis1))])) \n",
        "    currMap = group.combineMultiple(listSum([testedCoefficients[i]*[basis2[i]] for i in range(len(basis1))]))\n",
        "    if currElement not in foundElements:\n",
        "      foundElements.append(currElement)\n",
        "      foundMappings.append(currMap)\n",
        "    for idx in range(len(testedCoefficients)):\n",
        "      coef = testedCoefficients[-idx-1]\n",
        "      if coef < len(group.elements) + 1:\n",
        "        testedCoefficients[-idx-1] = coef+1\n",
        "        break\n",
        "      else:\n",
        "        testedCoefficients[-idx-1] = 0\n",
        "  twobytwo = list(sorted(zip(foundElements, foundMappings), key=lambda x:x[0]))\n",
        "  return [[element[0] for element in twobytwo],[element2[1] for element2 in twobytwo]]"
      ],
      "metadata": {
        "id": "Qciyg6Lb7_ie"
      },
      "execution_count": 22,
      "outputs": []
    },
    {
      "cell_type": "markdown",
      "source": [
        "###Returns the automorphism group of a given group G\n",
        "\n",
        "Elements: All possible automorphisms of G\n",
        "\n",
        "Operation: The automorphisms which results when two given automorphisms are applied one after the other"
      ],
      "metadata": {
        "id": "DH1CCHyy5pUU"
      }
    },
    {
      "cell_type": "code",
      "source": [
        "def generalizedAutos(group):\n",
        "  bases = generators(group)\n",
        "  autos = []\n",
        "  for basis1 in bases:\n",
        "    for basis2 in bases[1:]:\n",
        "      newAuto = automorphism(group, basis1, basis2)\n",
        "      if newAuto not in autos:\n",
        "        autos.append(newAuto)\n",
        "  for idx, auto in enumerate(autos):\n",
        "    if auto[0] == auto[1]:\n",
        "      autos.insert(0, autos.pop(idx))\n",
        "  for row in autos:\n",
        "    for col in autos:\n",
        "      domain = row[0]\n",
        "      image = [col[1][col[0].index(firstMap)] for firstMap in row[1]]\n",
        "      if [domain,image] not in autos:\n",
        "        autos.append([domain,image])\n",
        "  results = np.zeros((len(autos), len(autos)), dtype=int)\n",
        "  for rowIndex, row in enumerate(autos):\n",
        "    for colIndex, col in enumerate(autos):\n",
        "      domain = row[0]\n",
        "      image = [col[1][col[0].index(firstMap)] for firstMap in row[1]]\n",
        "      results[rowIndex, colIndex] = autos.index([domain, image])\n",
        "  return Group(results, autos, f\"Aut({group.representation})\")\n"
      ],
      "metadata": {
        "id": "2PaJUuPb2QXw"
      },
      "execution_count": 23,
      "outputs": []
    },
    {
      "cell_type": "code",
      "source": [
        "Z4autos = generalizedAutos(cyclic(4))\n",
        "Z2XZ2autos = generalizedAutos(cross(cyclic(2), cyclic(2)))\n",
        "print(f\"Z4 Identity Aut of 1: {auto_function(Z4autos.elements[0])(1)}\")\n",
        "print(f\"Z2XZ2 Non Trivial Aut of [0,1]: {auto_function(Z2XZ2autos.elements[2])([0,1])}\")\n",
        "newAuto = Z2XZ2autos.combine(Z2XZ2autos.elements[2], Z2XZ2autos.elements[3])\n",
        "print(auto_function(newAuto)([0,1]))"
      ],
      "metadata": {
        "colab": {
          "base_uri": "https://localhost:8080/"
        },
        "id": "6_NXzQDLPnYO",
        "outputId": "6e30d25a-dfb9-4dc4-8119-a4bdf18aed4f"
      },
      "execution_count": 24,
      "outputs": [
        {
          "output_type": "stream",
          "name": "stdout",
          "text": [
            "Z4 Identity Aut of 1: 1\n",
            "Z2XZ2 Non Trivial Aut of [0,1]: [1, 0]\n",
            "[0, 1]\n"
          ]
        }
      ]
    },
    {
      "cell_type": "markdown",
      "source": [
        "###Given two groups G and H, calculates all homomorphisms between the two groups\n",
        "\n",
        "Finds all possible mappings F between G and H, and for each mapping f ∈ F and each element pair g1,g2 ∈ G tests if f(g1*g2) = f(g1) * f(g2)"
      ],
      "metadata": {
        "id": "moeBG0UO5wTl"
      }
    },
    {
      "cell_type": "code",
      "source": [
        "def homomorphism(group1, group2):\n",
        "  group1generators = group1.elements.copy()\n",
        "  group2orders = [group2.order(element) for element in group2.elements]\n",
        "  homos = []\n",
        "  possibleMappings = []\n",
        "  for generator in group1generators:\n",
        "    possibleMappings.append([group2.elements[idx] for idx,val in enumerate(group2orders)])\n",
        "  mapIndices = [0] * len(possibleMappings)\n",
        "  finished=False\n",
        "  while not finished:\n",
        "    currentMap = [possibleMappings[index][mapIndex] for index, mapIndex in enumerate(mapIndices)]\n",
        "    testResults = np.zeros((len(currentMap), len(currentMap)), dtype=int)\n",
        "    homo=True\n",
        "    for element1, map1 in zip(group1.elements,currentMap):\n",
        "      if not homo:\n",
        "        break\n",
        "      for element2, map2 in zip(group1.elements,currentMap):\n",
        "        if currentMap[group1.elements.index(group1.combine(element1, element2))] != group2.combine(currentMap[group1.elements.index(element1)], currentMap[group1.elements.index(element2)]):\n",
        "          homo=False\n",
        "          break\n",
        "    if homo:\n",
        "      homos.append(currentMap)\n",
        "    for idx,val in enumerate(mapIndices):\n",
        "      if val < len(possibleMappings[idx]) - 1:\n",
        "        mapIndices[idx] += 1\n",
        "        break\n",
        "      finished = (idx == len(mapIndices) - 1)\n",
        "      mapIndices[idx] = 0\n",
        "  return homos"
      ],
      "metadata": {
        "id": "7fmzAJj4f_5f"
      },
      "execution_count": 25,
      "outputs": []
    },
    {
      "cell_type": "markdown",
      "source": [
        "###(deprecated) Finds the semidirect product of two cyclic groups of given prime orders where prime2 mod prime1 is 1"
      ],
      "metadata": {
        "id": "lrbBQkE_533o"
      }
    },
    {
      "cell_type": "code",
      "source": [
        "def generateNonAbelian(prime1, prime2):\n",
        "  if prime1>prime2:\n",
        "    prime1,prime2 = prime2,prime1\n",
        "  initialBounds = list(product(range(prime1), range(prime2)))\n",
        "  for idx, val in enumerate(initialBounds):\n",
        "    try:\n",
        "      temp = list(val[0])\n",
        "    except:\n",
        "      temp = [val[0]]\n",
        "    temp.append(val[1])\n",
        "    initialBounds[idx] = temp\n",
        "  results = np.zeros((len(initialBounds), len(initialBounds)), dtype=int)\n",
        "  groupH = cyclic(prime1)\n",
        "  groupN = cyclic(prime2)\n",
        "  autoHomomorphism = [phism[0] for phism in generateAutos(prime2).items() if phism[1] in [0, prime1]]\n",
        "  for rowIndex, row in enumerate(initialBounds):\n",
        "    for colIndex, col in enumerate(initialBounds):\n",
        "      results[rowIndex, colIndex] = initialBounds.index([groupH.combine(row[0],col[0]), groupN.combine((row[1] * autoHomomorphism[groupH.inverse(col[0])]) % prime2, col[1])])\n",
        "  return Group(results, initialBounds, f\"Z{prime1} ⋊ Z{prime2}\")"
      ],
      "metadata": {
        "id": "xjDljKlWujxu"
      },
      "execution_count": 26,
      "outputs": []
    },
    {
      "cell_type": "markdown",
      "source": [
        "### Calculates the semidirect product of two given groups A and B using a given homomorphism ϕ from the first group to the automorphism group of the second group\n",
        "\n",
        "Elements: (a,b) where {a ∈ A, b ∈ B}\n",
        "\n",
        "Operation: (a1,b1) + (a2,b2) -> (a1+a2,ϕ(a2<sup>-1</sup>)(b1)xb2) where + is operation of A and x is operation of B"
      ],
      "metadata": {
        "id": "Eg95t_m-6f1f"
      }
    },
    {
      "cell_type": "code",
      "source": [
        "def semiDirectProduct(group1, group2, homomorphism):\n",
        "  initialBounds = sorted([list(element) for element in list(product(group1.elements, group2.elements))])\n",
        "  results = np.zeros((len(initialBounds), len(initialBounds)), dtype=int)\n",
        "  for rowIndex, row in enumerate(initialBounds):\n",
        "    for colIndex, col in enumerate(initialBounds):\n",
        "      secondElement = auto_function(homomorphism[group1.elements.index(group1.inverse(col[0]))])(row[1])\n",
        "      results[rowIndex,colIndex] = initialBounds.index([group1.combine(row[0], col[0]), group2.combine(secondElement, col[1])])\n",
        "  return Group(results, initialBounds, group1.representation + \" ⋊ \" + group2.representation)"
      ],
      "metadata": {
        "id": "aN4KPigqGi89"
      },
      "execution_count": 27,
      "outputs": []
    },
    {
      "cell_type": "markdown",
      "source": [
        "###Finds all possible semidirect products between two given groups and the given remaining factor when the target order is divided by the product of the two groups' orders "
      ],
      "metadata": {
        "id": "KzItwpiO6wBg"
      }
    },
    {
      "cell_type": "code",
      "source": [
        "def allSemiDirects(group1, group2, remainder):\n",
        "  results = []\n",
        "  if len(group2.elements) == 2:\n",
        "    return results\n",
        "  possibleHomos = homomorphism(group1, generalizedAutos(group2))\n",
        "  for homo in possibleHomos:\n",
        "    semiDirect = semiDirectProduct(group1, group2, homo)\n",
        "    if remainder==1:\n",
        "      results.append(semiDirect)\n",
        "    else:\n",
        "      results.append(cross(semiDirect, cyclic(remainder)))\n",
        "  return results"
      ],
      "metadata": {
        "id": "GMkVc-PxJp_s"
      },
      "execution_count": 28,
      "outputs": []
    },
    {
      "cell_type": "markdown",
      "source": [
        "##Calulates almost all groups up to isomorphism of given order n including abelian, non-abelian, cyclic, non-cyclic, etc. Becomes unreasonable to do automatically when n > 20, but it is very reasonable to do so using the cyclic, cross, and semidirect functions, which can be used to represent almost any group."
      ],
      "metadata": {
        "id": "PXYjGksS6-_d"
      }
    },
    {
      "cell_type": "code",
      "source": [
        "def generateAll(numElements):\n",
        "  factors = primeFactorization(numElements)\n",
        "  results = [cyclic(numElements)]\n",
        "  uniqueFactors = list(np.unique(factors))\n",
        "  for index, factor in enumerate(uniqueFactors):\n",
        "    if factors.count(factor) >= 2:\n",
        "      remainder = int(round(numElements / factor**2))\n",
        "      if remainder!=1:\n",
        "        results.append(crossMultiple(cyclic(factor), cyclic(factor), cyclic(remainder)))\n",
        "      else:\n",
        "        results.append(cross(cyclic(factor), cyclic(factor)))\n",
        "    for secondFactor in uniqueFactors[index+1:]:\n",
        "      if secondFactor % factor == 1:\n",
        "        for i in range(factors.count(factor)):\n",
        "          for j in range(factors.count(secondFactor)):\n",
        "            cyclicRemainder = int(round(numElements / (factor**(i+1) * secondFactor**(j+1))))\n",
        "            results = results + allSemiDirects(cyclic(factor**(i+1)), cyclic(secondFactor**(j+1)), cyclicRemainder)\n",
        "            currSmall = cyclic(factor)\n",
        "            currBig = cyclic(secondFactor)\n",
        "            for numSmallCrosses in range(i):\n",
        "              currSmall = cross(currSmall, cyclic(factor))\n",
        "            for numBigCrosses in range(j):\n",
        "              currBig = cross(currSmall, cyclic(factor))\n",
        "            remainder = int(round(numElements / (factor**(i+1) * secondFactor**(j+1))))\n",
        "            results = results + allSemiDirects(currSmall, currBig, remainder)\n",
        "            results = results + allSemiDirects(currBig, currSmall, remainder)\n",
        "  return unique(results)"
      ],
      "metadata": {
        "id": "V520CWakidpq"
      },
      "execution_count": 29,
      "outputs": []
    },
    {
      "cell_type": "code",
      "source": [
        "generateAll(12)"
      ],
      "metadata": {
        "colab": {
          "base_uri": "https://localhost:8080/"
        },
        "id": "8lStBccPRfsy",
        "outputId": "7696473b-b8d6-4cbb-937a-e5806e74693b"
      },
      "execution_count": 30,
      "outputs": [
        {
          "output_type": "execute_result",
          "data": {
            "text/plain": [
              "[Z12, Z2 X Z2 X Z3, Z2 ⋊ Z3 X Z2, Z4 ⋊ Z3, Z3 ⋊ Z2 X Z2]"
            ]
          },
          "metadata": {},
          "execution_count": 30
        }
      ]
    }
  ]
}